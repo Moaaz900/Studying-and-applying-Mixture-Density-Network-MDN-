{
  "nbformat": 4,
  "nbformat_minor": 0,
  "metadata": {
    "colab": {
      "name": "T-11-MDN ",
      "provenance": [],
      "collapsed_sections": []
    },
    "kernelspec": {
      "name": "python3",
      "display_name": "Python 3"
    }
  },
  "cells": [
    {
      "cell_type": "code",
      "metadata": {
        "id": "SKosPTVMO5BO",
        "colab_type": "code",
        "colab": {
          "base_uri": "https://localhost:8080/",
          "height": 70
        },
        "outputId": "bba031c6-b65d-428a-a356-e7e00926aa3b"
      },
      "source": [
        "import pandas as pd \n",
        "import numpy\n",
        "import seaborn as sns\n",
        "import matplotlib.pyplot as plt\n",
        "%matplotlib inline\n",
        "from sklearn.model_selection import train_test_split\n",
        "from sklearn.preprocessing import MinMaxScaler"
      ],
      "execution_count": 1,
      "outputs": [
        {
          "output_type": "stream",
          "text": [
            "/usr/local/lib/python3.6/dist-packages/statsmodels/tools/_testing.py:19: FutureWarning: pandas.util.testing is deprecated. Use the functions in the public API at pandas.testing instead.\n",
            "  import pandas.util.testing as tm\n"
          ],
          "name": "stderr"
        }
      ]
    },
    {
      "cell_type": "code",
      "metadata": {
        "colab_type": "code",
        "id": "rUuKNKwK_Cjd",
        "colab": {}
      },
      "source": [
        "\n",
        "data = pd.read_csv('/content/dep_arr.csv')\n",
        "# Dataset is now stored in a Pandas Dataframe"
      ],
      "execution_count": 2,
      "outputs": []
    },
    {
      "cell_type": "code",
      "metadata": {
        "id": "KI6joxUkVuwH",
        "colab_type": "code",
        "colab": {
          "base_uri": "https://localhost:8080/",
          "height": 402
        },
        "outputId": "e686b731-7f25-4333-c312-5cec3ef83a42"
      },
      "source": [
        "data"
      ],
      "execution_count": 3,
      "outputs": [
        {
          "output_type": "execute_result",
          "data": {
            "text/html": [
              "<div>\n",
              "<style scoped>\n",
              "    .dataframe tbody tr th:only-of-type {\n",
              "        vertical-align: middle;\n",
              "    }\n",
              "\n",
              "    .dataframe tbody tr th {\n",
              "        vertical-align: top;\n",
              "    }\n",
              "\n",
              "    .dataframe thead th {\n",
              "        text-align: right;\n",
              "    }\n",
              "</style>\n",
              "<table border=\"1\" class=\"dataframe\">\n",
              "  <thead>\n",
              "    <tr style=\"text-align: right;\">\n",
              "      <th></th>\n",
              "      <th>DEP_DELAY_NEW</th>\n",
              "      <th>ARR_DELAY_NEW</th>\n",
              "      <th>Unnamed: 2</th>\n",
              "    </tr>\n",
              "  </thead>\n",
              "  <tbody>\n",
              "    <tr>\n",
              "      <th>0</th>\n",
              "      <td>NaN</td>\n",
              "      <td>NaN</td>\n",
              "      <td>NaN</td>\n",
              "    </tr>\n",
              "    <tr>\n",
              "      <th>1</th>\n",
              "      <td>NaN</td>\n",
              "      <td>NaN</td>\n",
              "      <td>NaN</td>\n",
              "    </tr>\n",
              "    <tr>\n",
              "      <th>2</th>\n",
              "      <td>NaN</td>\n",
              "      <td>NaN</td>\n",
              "      <td>NaN</td>\n",
              "    </tr>\n",
              "    <tr>\n",
              "      <th>3</th>\n",
              "      <td>NaN</td>\n",
              "      <td>NaN</td>\n",
              "      <td>NaN</td>\n",
              "    </tr>\n",
              "    <tr>\n",
              "      <th>4</th>\n",
              "      <td>NaN</td>\n",
              "      <td>NaN</td>\n",
              "      <td>NaN</td>\n",
              "    </tr>\n",
              "    <tr>\n",
              "      <th>...</th>\n",
              "      <td>...</td>\n",
              "      <td>...</td>\n",
              "      <td>...</td>\n",
              "    </tr>\n",
              "    <tr>\n",
              "      <th>660551</th>\n",
              "      <td>1955.0</td>\n",
              "      <td>1937.0</td>\n",
              "      <td>NaN</td>\n",
              "    </tr>\n",
              "    <tr>\n",
              "      <th>660552</th>\n",
              "      <td>2173.0</td>\n",
              "      <td>2188.0</td>\n",
              "      <td>NaN</td>\n",
              "    </tr>\n",
              "    <tr>\n",
              "      <th>660553</th>\n",
              "      <td>2246.0</td>\n",
              "      <td>2228.0</td>\n",
              "      <td>NaN</td>\n",
              "    </tr>\n",
              "    <tr>\n",
              "      <th>660554</th>\n",
              "      <td>2327.0</td>\n",
              "      <td>2308.0</td>\n",
              "      <td>NaN</td>\n",
              "    </tr>\n",
              "    <tr>\n",
              "      <th>660555</th>\n",
              "      <td>2489.0</td>\n",
              "      <td>2536.0</td>\n",
              "      <td>NaN</td>\n",
              "    </tr>\n",
              "  </tbody>\n",
              "</table>\n",
              "<p>660556 rows × 3 columns</p>\n",
              "</div>"
            ],
            "text/plain": [
              "        DEP_DELAY_NEW  ARR_DELAY_NEW  Unnamed: 2\n",
              "0                 NaN            NaN         NaN\n",
              "1                 NaN            NaN         NaN\n",
              "2                 NaN            NaN         NaN\n",
              "3                 NaN            NaN         NaN\n",
              "4                 NaN            NaN         NaN\n",
              "...               ...            ...         ...\n",
              "660551         1955.0         1937.0         NaN\n",
              "660552         2173.0         2188.0         NaN\n",
              "660553         2246.0         2228.0         NaN\n",
              "660554         2327.0         2308.0         NaN\n",
              "660555         2489.0         2536.0         NaN\n",
              "\n",
              "[660556 rows x 3 columns]"
            ]
          },
          "metadata": {
            "tags": []
          },
          "execution_count": 3
        }
      ]
    },
    {
      "cell_type": "code",
      "metadata": {
        "id": "NQXocsuR_MRQ",
        "colab_type": "code",
        "colab": {}
      },
      "source": [
        "data.drop(['Unnamed: 2'],axis=1,inplace=True)"
      ],
      "execution_count": 4,
      "outputs": []
    },
    {
      "cell_type": "code",
      "metadata": {
        "id": "7QGXcijaKPun",
        "colab_type": "code",
        "colab": {}
      },
      "source": [
        "data.dropna(inplace=True)"
      ],
      "execution_count": 5,
      "outputs": []
    },
    {
      "cell_type": "code",
      "metadata": {
        "id": "q4lp1QryLalI",
        "colab_type": "code",
        "colab": {
          "base_uri": "https://localhost:8080/",
          "height": 402
        },
        "outputId": "4ed73493-495b-46ea-ffaa-81543a2845ea"
      },
      "source": [
        "data"
      ],
      "execution_count": 6,
      "outputs": [
        {
          "output_type": "execute_result",
          "data": {
            "text/html": [
              "<div>\n",
              "<style scoped>\n",
              "    .dataframe tbody tr th:only-of-type {\n",
              "        vertical-align: middle;\n",
              "    }\n",
              "\n",
              "    .dataframe tbody tr th {\n",
              "        vertical-align: top;\n",
              "    }\n",
              "\n",
              "    .dataframe thead th {\n",
              "        text-align: right;\n",
              "    }\n",
              "</style>\n",
              "<table border=\"1\" class=\"dataframe\">\n",
              "  <thead>\n",
              "    <tr style=\"text-align: right;\">\n",
              "      <th></th>\n",
              "      <th>DEP_DELAY_NEW</th>\n",
              "      <th>ARR_DELAY_NEW</th>\n",
              "    </tr>\n",
              "  </thead>\n",
              "  <tbody>\n",
              "    <tr>\n",
              "      <th>8113</th>\n",
              "      <td>0.0</td>\n",
              "      <td>0.0</td>\n",
              "    </tr>\n",
              "    <tr>\n",
              "      <th>8114</th>\n",
              "      <td>0.0</td>\n",
              "      <td>0.0</td>\n",
              "    </tr>\n",
              "    <tr>\n",
              "      <th>8115</th>\n",
              "      <td>0.0</td>\n",
              "      <td>0.0</td>\n",
              "    </tr>\n",
              "    <tr>\n",
              "      <th>8116</th>\n",
              "      <td>0.0</td>\n",
              "      <td>0.0</td>\n",
              "    </tr>\n",
              "    <tr>\n",
              "      <th>8117</th>\n",
              "      <td>0.0</td>\n",
              "      <td>0.0</td>\n",
              "    </tr>\n",
              "    <tr>\n",
              "      <th>...</th>\n",
              "      <td>...</td>\n",
              "      <td>...</td>\n",
              "    </tr>\n",
              "    <tr>\n",
              "      <th>660551</th>\n",
              "      <td>1955.0</td>\n",
              "      <td>1937.0</td>\n",
              "    </tr>\n",
              "    <tr>\n",
              "      <th>660552</th>\n",
              "      <td>2173.0</td>\n",
              "      <td>2188.0</td>\n",
              "    </tr>\n",
              "    <tr>\n",
              "      <th>660553</th>\n",
              "      <td>2246.0</td>\n",
              "      <td>2228.0</td>\n",
              "    </tr>\n",
              "    <tr>\n",
              "      <th>660554</th>\n",
              "      <td>2327.0</td>\n",
              "      <td>2308.0</td>\n",
              "    </tr>\n",
              "    <tr>\n",
              "      <th>660555</th>\n",
              "      <td>2489.0</td>\n",
              "      <td>2536.0</td>\n",
              "    </tr>\n",
              "  </tbody>\n",
              "</table>\n",
              "<p>650850 rows × 2 columns</p>\n",
              "</div>"
            ],
            "text/plain": [
              "        DEP_DELAY_NEW  ARR_DELAY_NEW\n",
              "8113              0.0            0.0\n",
              "8114              0.0            0.0\n",
              "8115              0.0            0.0\n",
              "8116              0.0            0.0\n",
              "8117              0.0            0.0\n",
              "...               ...            ...\n",
              "660551         1955.0         1937.0\n",
              "660552         2173.0         2188.0\n",
              "660553         2246.0         2228.0\n",
              "660554         2327.0         2308.0\n",
              "660555         2489.0         2536.0\n",
              "\n",
              "[650850 rows x 2 columns]"
            ]
          },
          "metadata": {
            "tags": []
          },
          "execution_count": 6
        }
      ]
    },
    {
      "cell_type": "code",
      "metadata": {
        "id": "Nr1f1zKi_ucy",
        "colab_type": "code",
        "colab": {
          "base_uri": "https://localhost:8080/",
          "height": 443
        },
        "outputId": "f60f0711-865f-42ea-ac4b-c20e129065b2"
      },
      "source": [
        "plt.figure(figsize=(12, 7))\n",
        "sns.scatterplot(data=data,x='DEP_DELAY_NEW',y='ARR_DELAY_NEW',palette='winter')\n",
        "plt.show()"
      ],
      "execution_count": 7,
      "outputs": [
        {
          "output_type": "display_data",
          "data": {
            "image/png": "[encoded data removed]",
            "text/plain": [
              "<Figure size 864x504 with 1 Axes>"
            ]
          },
          "metadata": {
            "tags": [],
            "needs_background": "light"
          }
        }
      ]
    },
    {
      "cell_type": "markdown",
      "metadata": {
        "id": "PmkcD_N1uZtJ",
        "colab_type": "text"
      },
      "source": [
        "# 1) Define the MDN"
      ]
    },
    {
      "cell_type": "code",
      "metadata": {
        "id": "zcuy684luZtM",
        "colab_type": "code",
        "colab": {}
      },
      "source": [
        "from __future__ import absolute_import, division, print_function\n",
        "import tensorflow as tf\n",
        "import tensorflow.keras as K\n",
        "from tensorflow_probability import distributions as tfd\n",
        "from tensorflow.keras.layers import Input, Dense, Activation, Concatenate\n",
        "from tensorflow.keras.callbacks import EarlyStopping, TensorBoard, ReduceLROnPlateau"
      ],
      "execution_count": 8,
      "outputs": []
    },
    {
      "cell_type": "code",
      "metadata": {
        "id": "yVt8C5utuZtS",
        "colab_type": "code",
        "colab": {}
      },
      "source": [
        "class MDN(tf.keras.Model):\n",
        "\n",
        "    def __init__(self, neurons=100, components = 2):\n",
        "        super(MDN, self).__init__(name=\"MDN\")\n",
        "        self.neurons = neurons\n",
        "        self.components = components\n",
        "        \n",
        "        self.h1 = Dense(neurons, activation=\"relu\", name=\"h1\")\n",
        "        self.h2 = Dense(neurons, activation=\"relu\", name=\"h2\")\n",
        "        \n",
        "        self.alphas = Dense(components, activation=\"softmax\", name=\"alphas\")\n",
        "        self.mus = Dense(components, name=\"mus\")\n",
        "        self.sigmas = Dense(components, activation=\"nnelu\", name=\"sigmas\")\n",
        "        self.pvec = Concatenate(name=\"pvec\")\n",
        "        \n",
        "    def call(self, inputs):\n",
        "        x = self.h1(inputs)\n",
        "        x = self.h2(x)\n",
        "        \n",
        "        alpha_v = self.alphas(x)\n",
        "        mu_v = self.mus(x)\n",
        "        sigma_v = self.sigmas(x)\n",
        "        \n",
        "        return self.pvec([alpha_v, mu_v, sigma_v])\n",
        "    \n",
        "class DNN(tf.keras.Model):\n",
        "    def __init__(self, neurons=100):\n",
        "        super(DNN, self).__init__(name=\"DNN\")\n",
        "        self.neurons = neurons\n",
        "        \n",
        "        self.h1 = Dense(neurons, activation=\"relu\", name=\"h1\")\n",
        "        self.h2 = Dense(neurons, activation=\"relu\", name=\"h2\")\n",
        "        self.out = Dense(1, activation=\"linear\", name=\"out\")\n",
        "        \n",
        "    def call(self, inputs):\n",
        "        x = self.h1(inputs)\n",
        "        x = self.h2(x)\n",
        "        return self.out(x)"
      ],
      "execution_count": 9,
      "outputs": []
    },
    {
      "cell_type": "code",
      "metadata": {
        "id": "G86gcOq3FgBz",
        "colab_type": "code",
        "colab": {}
      },
      "source": [
        "def nnelu(input):\n",
        "    \"\"\" Computes the Non-Negative Exponential Linear Unit\n",
        "    \"\"\"\n",
        "    return tf.add(tf.constant(1, dtype=tf.float32), tf.nn.elu(input))\n",
        "\n",
        "def slice_parameter_vectors(parameter_vector):\n",
        "    \"\"\" Returns an unpacked list of paramter vectors.\n",
        "    \"\"\"\n",
        "    return [parameter_vector[:,i*components:(i+1)*components] for i in range(no_parameters)]\n",
        "\n",
        "def gnll_loss(y, parameter_vector):\n",
        "    \"\"\" Computes the mean negative log-likelihood loss of y given the mixture parameters.\n",
        "    \"\"\"\n",
        "    alpha, mu, sigma = slice_parameter_vectors(parameter_vector) # Unpack parameter vectors\n",
        "    \n",
        "    gm = tfd.MixtureSameFamily(\n",
        "        mixture_distribution=tfd.Categorical(probs=alpha),\n",
        "        components_distribution=tfd.Normal(\n",
        "            loc=mu,       \n",
        "            scale=sigma))\n",
        "    \n",
        "    log_likelihood = gm.log_prob(tf.transpose(y)) # Evaluate log-probability of y\n",
        "    \n",
        "    return -tf.reduce_mean(log_likelihood, axis=-1)\n",
        "\n",
        "tf.keras.utils.get_custom_objects().update({'nnelu': Activation(nnelu)})"
      ],
      "execution_count": 10,
      "outputs": []
    },
    {
      "cell_type": "code",
      "metadata": {
        "id": "cM0kVwQxuZta",
        "colab_type": "code",
        "colab": {}
      },
      "source": [
        "no_parameters = 3\n",
        "components = 1\n",
        "neurons = 200\n",
        "\n",
        "opt = tf.optimizers.Adam()#tf.train.AdamOptimizer(1e-3)\n",
        "\n",
        "mon = EarlyStopping(monitor='val_loss', min_delta=0, patience=5, verbose=0, mode='auto')"
      ],
      "execution_count": 19,
      "outputs": []
    },
    {
      "cell_type": "code",
      "metadata": {
        "id": "-Cw-R8qwGJUe",
        "colab_type": "code",
        "colab": {}
      },
      "source": [
        "mdn = MDN(neurons=neurons, components=components)\n",
        "mdn.compile(loss=gnll_loss, optimizer=opt)"
      ],
      "execution_count": 20,
      "outputs": []
    },
    {
      "cell_type": "code",
      "metadata": {
        "id": "DZzLU1UrGPpB",
        "colab_type": "code",
        "colab": {}
      },
      "source": [
        "x=data[\"DEP_DELAY_NEW\"]\n",
        "y=data['ARR_DELAY_NEW']\n",
        "x_train, x_test, y_train, y_test = train_test_split(x, y,test_size=0.2, random_state=42)"
      ],
      "execution_count": 21,
      "outputs": []
    },
    {
      "cell_type": "code",
      "metadata": {
        "id": "8OdS_jDRJknL",
        "colab_type": "code",
        "colab": {}
      },
      "source": [
        "tf.keras.backend.set_floatx('float64')"
      ],
      "execution_count": 22,
      "outputs": []
    },
    {
      "cell_type": "code",
      "metadata": {
        "id": "fHiI4OKvIiSb",
        "colab_type": "code",
        "colab": {
          "base_uri": "https://localhost:8080/",
          "height": 238
        },
        "outputId": "fe2d77ca-0233-42d6-be00-1bd28ff36d44"
      },
      "source": [
        "\n",
        "mdn.fit(x=x_train, y=y_train,epochs=200, validation_data=(x_test, y_test), callbacks=[mon], batch_size=128, verbose=0)\n",
        "y_pred= mdn.predict(x_test)\n",
        "alpha_pred, mu_pred, sigma_pred = slice_parameter_vectors(y_pred)"
      ],
      "execution_count": 23,
      "outputs": [
        {
          "output_type": "stream",
          "text": [
            "WARNING:tensorflow:Layer activation is casting an input tensor from dtype float64 to the layer's dtype of float32, which is new behavior in TensorFlow 2.  The layer has dtype float32 because it's dtype defaults to floatx.\n",
            "\n",
            "If you intended to run this layer in float32, you can safely ignore this warning. If in doubt, this warning is likely only an issue if you are porting a TensorFlow 1.X model to TensorFlow 2.\n",
            "\n",
            "To change all layers to have dtype float64 by default, call `tf.keras.backend.set_floatx('float64')`. To change just this layer, pass dtype='float64' to the layer constructor. If you are the author of this layer, you can disable autocasting by passing autocast=False to the base Layer constructor.\n",
            "\n",
            "WARNING:tensorflow:Layer pvec is casting an input tensor from dtype float32 to the layer's dtype of float64, which is new behavior in TensorFlow 2.  The layer has dtype float64 because it's dtype defaults to floatx.\n",
            "\n",
            "If you intended to run this layer in float64, you can safely ignore this warning. If in doubt, this warning is likely only an issue if you are porting a TensorFlow 1.X model to TensorFlow 2.\n",
            "\n",
            "To change all layers to have dtype float32 by default, call `tf.keras.backend.set_floatx('float32')`. To change just this layer, pass dtype='float32' to the layer constructor. If you are the author of this layer, you can disable autocasting by passing autocast=False to the base Layer constructor.\n",
            "\n"
          ],
          "name": "stdout"
        }
      ]
    },
    {
      "cell_type": "code",
      "metadata": {
        "id": "dy9d-WzJI4Bt",
        "colab_type": "code",
        "colab": {
          "base_uri": "https://localhost:8080/",
          "height": 134
        },
        "outputId": "59b9c18f-05eb-46ed-d707-21bfd5cff634"
      },
      "source": [
        "y_pred"
      ],
      "execution_count": 24,
      "outputs": [
        {
          "output_type": "execute_result",
          "data": {
            "text/plain": [
              "array([[ 1.        ,  1.20438636,  5.47140932],\n",
              "       [ 1.        ,  1.20438636,  5.47140932],\n",
              "       [ 1.        ,  1.20438636,  5.47140932],\n",
              "       ...,\n",
              "       [ 1.        , 33.59436451, 15.05301189],\n",
              "       [ 1.        ,  1.20438636,  5.47140932],\n",
              "       [ 1.        ,  1.20438636,  5.47140932]])"
            ]
          },
          "metadata": {
            "tags": []
          },
          "execution_count": 24
        }
      ]
    },
    {
      "cell_type": "code",
      "metadata": {
        "id": "n7W1zejZQyp3",
        "colab_type": "code",
        "colab": {}
      },
      "source": [
        ""
      ],
      "execution_count": 16,
      "outputs": []
    },
    {
      "cell_type": "code",
      "metadata": {
        "id": "s04R0r7_uZuf",
        "colab_type": "code",
        "colab": {}
      },
      "source": [
        ""
      ],
      "execution_count": 16,
      "outputs": []
    },
    {
      "cell_type": "code",
      "metadata": {
        "id": "c8NabSQib3Mr",
        "colab_type": "code",
        "colab": {}
      },
      "source": [
        ""
      ],
      "execution_count": 16,
      "outputs": []
    },
    {
      "cell_type": "code",
      "metadata": {
        "id": "2oj9VWWExpYc",
        "colab_type": "code",
        "colab": {}
      },
      "source": [
        ""
      ],
      "execution_count": 16,
      "outputs": []
    },
    {
      "cell_type": "code",
      "metadata": {
        "id": "vemtTET73-XM",
        "colab_type": "code",
        "colab": {}
      },
      "source": [
        "\n"
      ],
      "execution_count": 16,
      "outputs": []
    },
    {
      "cell_type": "code",
      "metadata": {
        "id": "ab33nvMx3_Qt",
        "colab_type": "code",
        "colab": {}
      },
      "source": [
        ""
      ],
      "execution_count": 16,
      "outputs": []
    },
    {
      "cell_type": "code",
      "metadata": {
        "id": "EujxkC2tTWV3",
        "colab_type": "code",
        "colab": {}
      },
      "source": [
        ""
      ],
      "execution_count": 16,
      "outputs": []
    },
    {
      "cell_type": "code",
      "metadata": {
        "id": "7dq_GQXGXNfS",
        "colab_type": "code",
        "colab": {}
      },
      "source": [
        ""
      ],
      "execution_count": 16,
      "outputs": []
    },
    {
      "cell_type": "code",
      "metadata": {
        "id": "KOEdNGVtXe2C",
        "colab_type": "code",
        "colab": {}
      },
      "source": [
        ""
      ],
      "execution_count": 16,
      "outputs": []
    },
    {
      "cell_type": "code",
      "metadata": {
        "id": "upxmNcqcYDPs",
        "colab_type": "code",
        "colab": {}
      },
      "source": [
        ""
      ],
      "execution_count": 16,
      "outputs": []
    },
    {
      "cell_type": "code",
      "metadata": {
        "id": "di_-Wb12Y-vk",
        "colab_type": "code",
        "colab": {}
      },
      "source": [
        ""
      ],
      "execution_count": 16,
      "outputs": []
    },
    {
      "cell_type": "code",
      "metadata": {
        "id": "bxbJt1k_bZlM",
        "colab_type": "code",
        "colab": {}
      },
      "source": [
        ""
      ],
      "execution_count": 16,
      "outputs": []
    },
    {
      "cell_type": "code",
      "metadata": {
        "id": "xMJKT3hcbfJ7",
        "colab_type": "code",
        "colab": {}
      },
      "source": [
        ""
      ],
      "execution_count": 16,
      "outputs": []
    },
    {
      "cell_type": "code",
      "metadata": {
        "id": "oG5bX_WtbprB",
        "colab_type": "code",
        "colab": {}
      },
      "source": [
        ""
      ],
      "execution_count": 16,
      "outputs": []
    },
    {
      "cell_type": "code",
      "metadata": {
        "id": "OCObEUh_chDr",
        "colab_type": "code",
        "colab": {}
      },
      "source": [
        ""
      ],
      "execution_count": 16,
      "outputs": []
    },
    {
      "cell_type": "code",
      "metadata": {
        "id": "WURZkWHIdd5G",
        "colab_type": "code",
        "colab": {}
      },
      "source": [
        ""
      ],
      "execution_count": 16,
      "outputs": []
    },
    {
      "cell_type": "code",
      "metadata": {
        "id": "Gk1twn0zdhIR",
        "colab_type": "code",
        "colab": {}
      },
      "source": [
        ""
      ],
      "execution_count": 16,
      "outputs": []
    }
  ]
}